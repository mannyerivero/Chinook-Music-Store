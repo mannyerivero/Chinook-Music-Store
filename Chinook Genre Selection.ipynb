{
 "cells": [
  {
   "cell_type": "markdown",
   "metadata": {},
   "source": [
    "# Answering Business Questions Using SQL"
   ]
  },
  {
   "cell_type": "code",
   "execution_count": 1,
   "metadata": {
    "collapsed": false
   },
   "outputs": [
    {
     "data": {
      "text/plain": [
       "'Connected: None@chinook.db'"
      ]
     },
     "execution_count": 1,
     "metadata": {},
     "output_type": "execute_result"
    }
   ],
   "source": [
    "%%capture\n",
    "%load_ext sql\n",
    "%sql sqlite:///chinook.db"
   ]
  },
  {
   "cell_type": "markdown",
   "metadata": {},
   "source": [
    "## Overview of the Database"
   ]
  },
  {
   "cell_type": "code",
   "execution_count": 2,
   "metadata": {
    "collapsed": false
   },
   "outputs": [
    {
     "name": "stdout",
     "output_type": "stream",
     "text": [
      "Done.\n"
     ]
    },
    {
     "data": {
      "text/html": [
       "<table>\n",
       "    <tr>\n",
       "        <th>name</th>\n",
       "        <th>type</th>\n",
       "    </tr>\n",
       "    <tr>\n",
       "        <td>album</td>\n",
       "        <td>table</td>\n",
       "    </tr>\n",
       "    <tr>\n",
       "        <td>artist</td>\n",
       "        <td>table</td>\n",
       "    </tr>\n",
       "    <tr>\n",
       "        <td>customer</td>\n",
       "        <td>table</td>\n",
       "    </tr>\n",
       "    <tr>\n",
       "        <td>employee</td>\n",
       "        <td>table</td>\n",
       "    </tr>\n",
       "    <tr>\n",
       "        <td>genre</td>\n",
       "        <td>table</td>\n",
       "    </tr>\n",
       "    <tr>\n",
       "        <td>invoice</td>\n",
       "        <td>table</td>\n",
       "    </tr>\n",
       "    <tr>\n",
       "        <td>invoice_line</td>\n",
       "        <td>table</td>\n",
       "    </tr>\n",
       "    <tr>\n",
       "        <td>media_type</td>\n",
       "        <td>table</td>\n",
       "    </tr>\n",
       "    <tr>\n",
       "        <td>playlist</td>\n",
       "        <td>table</td>\n",
       "    </tr>\n",
       "    <tr>\n",
       "        <td>playlist_track</td>\n",
       "        <td>table</td>\n",
       "    </tr>\n",
       "    <tr>\n",
       "        <td>track</td>\n",
       "        <td>table</td>\n",
       "    </tr>\n",
       "</table>"
      ],
      "text/plain": [
       "[('album', 'table'),\n",
       " ('artist', 'table'),\n",
       " ('customer', 'table'),\n",
       " ('employee', 'table'),\n",
       " ('genre', 'table'),\n",
       " ('invoice', 'table'),\n",
       " ('invoice_line', 'table'),\n",
       " ('media_type', 'table'),\n",
       " ('playlist', 'table'),\n",
       " ('playlist_track', 'table'),\n",
       " ('track', 'table')]"
      ]
     },
     "execution_count": 2,
     "metadata": {},
     "output_type": "execute_result"
    }
   ],
   "source": [
    "%%sql\n",
    "SELECT\n",
    "    name,\n",
    "    type\n",
    "FROM sqlite_master\n",
    "WHERE type IN (\"table\",\"view\");"
   ]
  },
  {
   "cell_type": "markdown",
   "metadata": {},
   "source": [
    "## Overview of tables\n"
   ]
  },
  {
   "cell_type": "code",
   "execution_count": 3,
   "metadata": {
    "collapsed": false
   },
   "outputs": [
    {
     "name": "stdout",
     "output_type": "stream",
     "text": [
      "Done.\n"
     ]
    },
    {
     "data": {
      "text/html": [
       "<table>\n",
       "    <tr>\n",
       "        <th>employee_id</th>\n",
       "        <th>last_name</th>\n",
       "        <th>first_name</th>\n",
       "        <th>title</th>\n",
       "        <th>reports_to</th>\n",
       "        <th>birthdate</th>\n",
       "        <th>hire_date</th>\n",
       "        <th>address</th>\n",
       "        <th>city</th>\n",
       "        <th>state</th>\n",
       "        <th>country</th>\n",
       "        <th>postal_code</th>\n",
       "        <th>phone</th>\n",
       "        <th>fax</th>\n",
       "        <th>email</th>\n",
       "    </tr>\n",
       "    <tr>\n",
       "        <td>1</td>\n",
       "        <td>Adams</td>\n",
       "        <td>Andrew</td>\n",
       "        <td>General Manager</td>\n",
       "        <td>None</td>\n",
       "        <td>1962-02-18 00:00:00</td>\n",
       "        <td>2016-08-14 00:00:00</td>\n",
       "        <td>11120 Jasper Ave NW</td>\n",
       "        <td>Edmonton</td>\n",
       "        <td>AB</td>\n",
       "        <td>Canada</td>\n",
       "        <td>T5K 2N1</td>\n",
       "        <td>+1 (780) 428-9482</td>\n",
       "        <td>+1 (780) 428-3457</td>\n",
       "        <td>andrew@chinookcorp.com</td>\n",
       "    </tr>\n",
       "    <tr>\n",
       "        <td>2</td>\n",
       "        <td>Edwards</td>\n",
       "        <td>Nancy</td>\n",
       "        <td>Sales Manager</td>\n",
       "        <td>1</td>\n",
       "        <td>1958-12-08 00:00:00</td>\n",
       "        <td>2016-05-01 00:00:00</td>\n",
       "        <td>825 8 Ave SW</td>\n",
       "        <td>Calgary</td>\n",
       "        <td>AB</td>\n",
       "        <td>Canada</td>\n",
       "        <td>T2P 2T3</td>\n",
       "        <td>+1 (403) 262-3443</td>\n",
       "        <td>+1 (403) 262-3322</td>\n",
       "        <td>nancy@chinookcorp.com</td>\n",
       "    </tr>\n",
       "    <tr>\n",
       "        <td>3</td>\n",
       "        <td>Peacock</td>\n",
       "        <td>Jane</td>\n",
       "        <td>Sales Support Agent</td>\n",
       "        <td>2</td>\n",
       "        <td>1973-08-29 00:00:00</td>\n",
       "        <td>2017-04-01 00:00:00</td>\n",
       "        <td>1111 6 Ave SW</td>\n",
       "        <td>Calgary</td>\n",
       "        <td>AB</td>\n",
       "        <td>Canada</td>\n",
       "        <td>T2P 5M5</td>\n",
       "        <td>+1 (403) 262-3443</td>\n",
       "        <td>+1 (403) 262-6712</td>\n",
       "        <td>jane@chinookcorp.com</td>\n",
       "    </tr>\n",
       "    <tr>\n",
       "        <td>4</td>\n",
       "        <td>Park</td>\n",
       "        <td>Margaret</td>\n",
       "        <td>Sales Support Agent</td>\n",
       "        <td>2</td>\n",
       "        <td>1947-09-19 00:00:00</td>\n",
       "        <td>2017-05-03 00:00:00</td>\n",
       "        <td>683 10 Street SW</td>\n",
       "        <td>Calgary</td>\n",
       "        <td>AB</td>\n",
       "        <td>Canada</td>\n",
       "        <td>T2P 5G3</td>\n",
       "        <td>+1 (403) 263-4423</td>\n",
       "        <td>+1 (403) 263-4289</td>\n",
       "        <td>margaret@chinookcorp.com</td>\n",
       "    </tr>\n",
       "    <tr>\n",
       "        <td>5</td>\n",
       "        <td>Johnson</td>\n",
       "        <td>Steve</td>\n",
       "        <td>Sales Support Agent</td>\n",
       "        <td>2</td>\n",
       "        <td>1965-03-03 00:00:00</td>\n",
       "        <td>2017-10-17 00:00:00</td>\n",
       "        <td>7727B 41 Ave</td>\n",
       "        <td>Calgary</td>\n",
       "        <td>AB</td>\n",
       "        <td>Canada</td>\n",
       "        <td>T3B 1Y7</td>\n",
       "        <td>1 (780) 836-9987</td>\n",
       "        <td>1 (780) 836-9543</td>\n",
       "        <td>steve@chinookcorp.com</td>\n",
       "    </tr>\n",
       "</table>"
      ],
      "text/plain": [
       "[(1, 'Adams', 'Andrew', 'General Manager', None, '1962-02-18 00:00:00', '2016-08-14 00:00:00', '11120 Jasper Ave NW', 'Edmonton', 'AB', 'Canada', 'T5K 2N1', '+1 (780) 428-9482', '+1 (780) 428-3457', 'andrew@chinookcorp.com'),\n",
       " (2, 'Edwards', 'Nancy', 'Sales Manager', 1, '1958-12-08 00:00:00', '2016-05-01 00:00:00', '825 8 Ave SW', 'Calgary', 'AB', 'Canada', 'T2P 2T3', '+1 (403) 262-3443', '+1 (403) 262-3322', 'nancy@chinookcorp.com'),\n",
       " (3, 'Peacock', 'Jane', 'Sales Support Agent', 2, '1973-08-29 00:00:00', '2017-04-01 00:00:00', '1111 6 Ave SW', 'Calgary', 'AB', 'Canada', 'T2P 5M5', '+1 (403) 262-3443', '+1 (403) 262-6712', 'jane@chinookcorp.com'),\n",
       " (4, 'Park', 'Margaret', 'Sales Support Agent', 2, '1947-09-19 00:00:00', '2017-05-03 00:00:00', '683 10 Street SW', 'Calgary', 'AB', 'Canada', 'T2P 5G3', '+1 (403) 263-4423', '+1 (403) 263-4289', 'margaret@chinookcorp.com'),\n",
       " (5, 'Johnson', 'Steve', 'Sales Support Agent', 2, '1965-03-03 00:00:00', '2017-10-17 00:00:00', '7727B 41 Ave', 'Calgary', 'AB', 'Canada', 'T3B 1Y7', '1 (780) 836-9987', '1 (780) 836-9543', 'steve@chinookcorp.com')]"
      ]
     },
     "execution_count": 3,
     "metadata": {},
     "output_type": "execute_result"
    }
   ],
   "source": [
    "%%sql\n",
    "SELECT *\n",
    "FROM employee\n",
    "LIMIT 5;"
   ]
  },
  {
   "cell_type": "code",
   "execution_count": 4,
   "metadata": {
    "collapsed": false
   },
   "outputs": [
    {
     "name": "stdout",
     "output_type": "stream",
     "text": [
      "Done.\n"
     ]
    },
    {
     "data": {
      "text/html": [
       "<table>\n",
       "    <tr>\n",
       "        <th>customer_id</th>\n",
       "        <th>first_name</th>\n",
       "        <th>last_name</th>\n",
       "        <th>company</th>\n",
       "        <th>address</th>\n",
       "        <th>city</th>\n",
       "        <th>state</th>\n",
       "        <th>country</th>\n",
       "        <th>postal_code</th>\n",
       "        <th>phone</th>\n",
       "        <th>fax</th>\n",
       "        <th>email</th>\n",
       "        <th>support_rep_id</th>\n",
       "    </tr>\n",
       "    <tr>\n",
       "        <td>1</td>\n",
       "        <td>Luís</td>\n",
       "        <td>Gonçalves</td>\n",
       "        <td>Embraer - Empresa Brasileira de Aeronáutica S.A.</td>\n",
       "        <td>Av. Brigadeiro Faria Lima, 2170</td>\n",
       "        <td>São José dos Campos</td>\n",
       "        <td>SP</td>\n",
       "        <td>Brazil</td>\n",
       "        <td>12227-000</td>\n",
       "        <td>+55 (12) 3923-5555</td>\n",
       "        <td>+55 (12) 3923-5566</td>\n",
       "        <td>luisg@embraer.com.br</td>\n",
       "        <td>3</td>\n",
       "    </tr>\n",
       "    <tr>\n",
       "        <td>2</td>\n",
       "        <td>Leonie</td>\n",
       "        <td>Köhler</td>\n",
       "        <td>None</td>\n",
       "        <td>Theodor-Heuss-Straße 34</td>\n",
       "        <td>Stuttgart</td>\n",
       "        <td>None</td>\n",
       "        <td>Germany</td>\n",
       "        <td>70174</td>\n",
       "        <td>+49 0711 2842222</td>\n",
       "        <td>None</td>\n",
       "        <td>leonekohler@surfeu.de</td>\n",
       "        <td>5</td>\n",
       "    </tr>\n",
       "    <tr>\n",
       "        <td>3</td>\n",
       "        <td>François</td>\n",
       "        <td>Tremblay</td>\n",
       "        <td>None</td>\n",
       "        <td>1498 rue Bélanger</td>\n",
       "        <td>Montréal</td>\n",
       "        <td>QC</td>\n",
       "        <td>Canada</td>\n",
       "        <td>H2G 1A7</td>\n",
       "        <td>+1 (514) 721-4711</td>\n",
       "        <td>None</td>\n",
       "        <td>ftremblay@gmail.com</td>\n",
       "        <td>3</td>\n",
       "    </tr>\n",
       "    <tr>\n",
       "        <td>4</td>\n",
       "        <td>Bjørn</td>\n",
       "        <td>Hansen</td>\n",
       "        <td>None</td>\n",
       "        <td>Ullevålsveien 14</td>\n",
       "        <td>Oslo</td>\n",
       "        <td>None</td>\n",
       "        <td>Norway</td>\n",
       "        <td>0171</td>\n",
       "        <td>+47 22 44 22 22</td>\n",
       "        <td>None</td>\n",
       "        <td>bjorn.hansen@yahoo.no</td>\n",
       "        <td>4</td>\n",
       "    </tr>\n",
       "    <tr>\n",
       "        <td>5</td>\n",
       "        <td>František</td>\n",
       "        <td>Wichterlová</td>\n",
       "        <td>JetBrains s.r.o.</td>\n",
       "        <td>Klanova 9/506</td>\n",
       "        <td>Prague</td>\n",
       "        <td>None</td>\n",
       "        <td>Czech Republic</td>\n",
       "        <td>14700</td>\n",
       "        <td>+420 2 4172 5555</td>\n",
       "        <td>+420 2 4172 5555</td>\n",
       "        <td>frantisekw@jetbrains.com</td>\n",
       "        <td>4</td>\n",
       "    </tr>\n",
       "</table>"
      ],
      "text/plain": [
       "[(1, 'Luís', 'Gonçalves', 'Embraer - Empresa Brasileira de Aeronáutica S.A.', 'Av. Brigadeiro Faria Lima, 2170', 'São José dos Campos', 'SP', 'Brazil', '12227-000', '+55 (12) 3923-5555', '+55 (12) 3923-5566', 'luisg@embraer.com.br', 3),\n",
       " (2, 'Leonie', 'Köhler', None, 'Theodor-Heuss-Straße 34', 'Stuttgart', None, 'Germany', '70174', '+49 0711 2842222', None, 'leonekohler@surfeu.de', 5),\n",
       " (3, 'François', 'Tremblay', None, '1498 rue Bélanger', 'Montréal', 'QC', 'Canada', 'H2G 1A7', '+1 (514) 721-4711', None, 'ftremblay@gmail.com', 3),\n",
       " (4, 'Bjørn', 'Hansen', None, 'Ullevålsveien 14', 'Oslo', None, 'Norway', '0171', '+47 22 44 22 22', None, 'bjorn.hansen@yahoo.no', 4),\n",
       " (5, 'František', 'Wichterlová', 'JetBrains s.r.o.', 'Klanova 9/506', 'Prague', None, 'Czech Republic', '14700', '+420 2 4172 5555', '+420 2 4172 5555', 'frantisekw@jetbrains.com', 4)]"
      ]
     },
     "execution_count": 4,
     "metadata": {},
     "output_type": "execute_result"
    }
   ],
   "source": [
    "%%sql\n",
    "SELECT *\n",
    "FROM customer\n",
    "LIMIT 5;"
   ]
  },
  {
   "cell_type": "code",
   "execution_count": 5,
   "metadata": {
    "collapsed": false
   },
   "outputs": [
    {
     "name": "stdout",
     "output_type": "stream",
     "text": [
      "Done.\n"
     ]
    },
    {
     "data": {
      "text/html": [
       "<table>\n",
       "    <tr>\n",
       "        <th>invoice_id</th>\n",
       "        <th>customer_id</th>\n",
       "        <th>invoice_date</th>\n",
       "        <th>billing_address</th>\n",
       "        <th>billing_city</th>\n",
       "        <th>billing_state</th>\n",
       "        <th>billing_country</th>\n",
       "        <th>billing_postal_code</th>\n",
       "        <th>total</th>\n",
       "    </tr>\n",
       "    <tr>\n",
       "        <td>1</td>\n",
       "        <td>18</td>\n",
       "        <td>2017-01-03 00:00:00</td>\n",
       "        <td>627 Broadway</td>\n",
       "        <td>New York</td>\n",
       "        <td>NY</td>\n",
       "        <td>USA</td>\n",
       "        <td>10012-2612</td>\n",
       "        <td>15.84</td>\n",
       "    </tr>\n",
       "    <tr>\n",
       "        <td>2</td>\n",
       "        <td>30</td>\n",
       "        <td>2017-01-03 00:00:00</td>\n",
       "        <td>230 Elgin Street</td>\n",
       "        <td>Ottawa</td>\n",
       "        <td>ON</td>\n",
       "        <td>Canada</td>\n",
       "        <td>K2P 1L7</td>\n",
       "        <td>9.9</td>\n",
       "    </tr>\n",
       "    <tr>\n",
       "        <td>3</td>\n",
       "        <td>40</td>\n",
       "        <td>2017-01-05 00:00:00</td>\n",
       "        <td>8, Rue Hanovre</td>\n",
       "        <td>Paris</td>\n",
       "        <td>None</td>\n",
       "        <td>France</td>\n",
       "        <td>75002</td>\n",
       "        <td>1.98</td>\n",
       "    </tr>\n",
       "    <tr>\n",
       "        <td>4</td>\n",
       "        <td>18</td>\n",
       "        <td>2017-01-06 00:00:00</td>\n",
       "        <td>627 Broadway</td>\n",
       "        <td>New York</td>\n",
       "        <td>NY</td>\n",
       "        <td>USA</td>\n",
       "        <td>10012-2612</td>\n",
       "        <td>7.92</td>\n",
       "    </tr>\n",
       "    <tr>\n",
       "        <td>5</td>\n",
       "        <td>27</td>\n",
       "        <td>2017-01-07 00:00:00</td>\n",
       "        <td>1033 N Park Ave</td>\n",
       "        <td>Tucson</td>\n",
       "        <td>AZ</td>\n",
       "        <td>USA</td>\n",
       "        <td>85719</td>\n",
       "        <td>16.83</td>\n",
       "    </tr>\n",
       "</table>"
      ],
      "text/plain": [
       "[(1, 18, '2017-01-03 00:00:00', '627 Broadway', 'New York', 'NY', 'USA', '10012-2612', 15.84),\n",
       " (2, 30, '2017-01-03 00:00:00', '230 Elgin Street', 'Ottawa', 'ON', 'Canada', 'K2P 1L7', 9.9),\n",
       " (3, 40, '2017-01-05 00:00:00', '8, Rue Hanovre', 'Paris', 'None', 'France', '75002', 1.98),\n",
       " (4, 18, '2017-01-06 00:00:00', '627 Broadway', 'New York', 'NY', 'USA', '10012-2612', 7.92),\n",
       " (5, 27, '2017-01-07 00:00:00', '1033 N Park Ave', 'Tucson', 'AZ', 'USA', '85719', 16.83)]"
      ]
     },
     "execution_count": 5,
     "metadata": {},
     "output_type": "execute_result"
    }
   ],
   "source": [
    "%%sql\n",
    "SELECT *\n",
    "FROM invoice\n",
    "LIMIT 5;"
   ]
  },
  {
   "cell_type": "markdown",
   "metadata": {},
   "source": [
    "The Chinook record store has just signed a deal with a new record label, and you've been tasked with selecting the first three albums that will be added to the store, from a list of four. All four albums are by artists that don't have any tracks in the store right now - we have the artist names, and the genre of music they produce:\n",
    "\n",
    "\n",
    "| Artist Name |\tGenre\n",
    "| :-----: | :-----: |\n",
    "| Regal |\tHip-Hop\n",
    "| Red Tone |\tPunk\n",
    "| Meteor and the Girls |\tPop\n",
    "| Slim Jim Bites |\tBlues\n",
    "\n",
    "The record label specializes in artists from the USA, and they have given Chinook some money to advertise the new albums in the USA, so we're interested in finding out which genres sell the best in the USA.\n"
   ]
  },
  {
   "cell_type": "code",
   "execution_count": 38,
   "metadata": {
    "collapsed": false
   },
   "outputs": [
    {
     "name": "stdout",
     "output_type": "stream",
     "text": [
      "Done.\n"
     ]
    },
    {
     "data": {
      "text/html": [
       "<table>\n",
       "    <tr>\n",
       "        <th>Genre</th>\n",
       "        <th>Count</th>\n",
       "    </tr>\n",
       "    <tr>\n",
       "        <td>Rock</td>\n",
       "        <td>561</td>\n",
       "    </tr>\n",
       "    <tr>\n",
       "        <td>Alternative &amp; Punk</td>\n",
       "        <td>130</td>\n",
       "    </tr>\n",
       "    <tr>\n",
       "        <td>Metal</td>\n",
       "        <td>124</td>\n",
       "    </tr>\n",
       "    <tr>\n",
       "        <td>R&amp;B/Soul</td>\n",
       "        <td>53</td>\n",
       "    </tr>\n",
       "    <tr>\n",
       "        <td>Blues</td>\n",
       "        <td>36</td>\n",
       "    </tr>\n",
       "</table>"
      ],
      "text/plain": [
       "[('Rock', 561),\n",
       " ('Alternative & Punk', 130),\n",
       " ('Metal', 124),\n",
       " ('R&B/Soul', 53),\n",
       " ('Blues', 36)]"
      ]
     },
     "execution_count": 38,
     "metadata": {},
     "output_type": "execute_result"
    }
   ],
   "source": [
    "%%sql\n",
    "WITH genre_table as\n",
    "    ( \n",
    "\n",
    "    SELECT g.name as Genre FROM invoice i\n",
    "    INNER JOIN invoice_line il ON i.invoice_id = il.invoice_id\n",
    "    INNER JOIN track t ON il.track_id = t.track_id\n",
    "    INNER JOIN genre g ON t.genre_id = g.genre_id\n",
    "      WHERE i.billing_country = 'USA'  \n",
    "\n",
    "\n",
    "    )\n",
    "\n",
    "\n",
    "SELECT Genre, COUNT(*) Count\n",
    "FROM genre_table\n",
    "GROUP BY 1\n",
    "ORDER BY 2 DESC\n",
    "LIMIT 5;"
   ]
  },
  {
   "cell_type": "code",
   "execution_count": null,
   "metadata": {
    "collapsed": true
   },
   "outputs": [],
   "source": []
  }
 ],
 "metadata": {
  "kernelspec": {
   "display_name": "Python 3",
   "language": "python",
   "name": "python3"
  },
  "language_info": {
   "codemirror_mode": {
    "name": "ipython",
    "version": 3
   },
   "file_extension": ".py",
   "mimetype": "text/x-python",
   "name": "python",
   "nbconvert_exporter": "python",
   "pygments_lexer": "ipython3",
   "version": "3.4.3"
  }
 },
 "nbformat": 4,
 "nbformat_minor": 2
}
