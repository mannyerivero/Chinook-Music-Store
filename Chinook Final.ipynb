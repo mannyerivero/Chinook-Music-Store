{
 "cells": [
  {
   "cell_type": "markdown",
   "metadata": {},
   "source": [
    "# Answering Business Questions Using SQL\n",
    "\n",
    "In this scenario, we will act as a data analyst for the Chinook Music Store. We will be tasked with answering business questions, some based on hypothetical scenarios, for the store in order to help them increase their overall performance. The questions are the following:\n",
    "\n",
    "* Which albums should the Chinook Store purchase based on the most popular genres?\n",
    "* Which Sales Support Rep has the best sales performance?\n",
    "* Which country has the highest sales amount for the Chinook Store?\n",
    "* Should Chinook shift the way it allows customers to purchase music from their store?\n",
    "* Which music artist is used in the most playlists?"
   ]
  },
  {
   "cell_type": "code",
   "execution_count": 1,
   "metadata": {
    "collapsed": false,
    "jupyter": {
     "outputs_hidden": false
    }
   },
   "outputs": [
    {
     "data": {
      "text/plain": [
       "'Connected: None@chinook.db'"
      ]
     },
     "execution_count": 1,
     "metadata": {},
     "output_type": "execute_result"
    }
   ],
   "source": [
    "%%capture\n",
    "%load_ext sql\n",
    "%sql sqlite:///chinook.db"
   ]
  },
  {
   "cell_type": "markdown",
   "metadata": {
    "tags": []
   },
   "source": [
    "***"
   ]
  },
  {
   "cell_type": "markdown",
   "metadata": {},
   "source": [
    "# Overview of the Database"
   ]
  },
  {
   "cell_type": "code",
   "execution_count": 2,
   "metadata": {
    "collapsed": false,
    "jupyter": {
     "outputs_hidden": false
    }
   },
   "outputs": [
    {
     "name": "stdout",
     "output_type": "stream",
     "text": [
      "Done.\n"
     ]
    },
    {
     "data": {
      "text/html": [
       "<table>\n",
       "    <tr>\n",
       "        <th>name</th>\n",
       "        <th>type</th>\n",
       "    </tr>\n",
       "    <tr>\n",
       "        <td>album</td>\n",
       "        <td>table</td>\n",
       "    </tr>\n",
       "    <tr>\n",
       "        <td>artist</td>\n",
       "        <td>table</td>\n",
       "    </tr>\n",
       "    <tr>\n",
       "        <td>customer</td>\n",
       "        <td>table</td>\n",
       "    </tr>\n",
       "    <tr>\n",
       "        <td>employee</td>\n",
       "        <td>table</td>\n",
       "    </tr>\n",
       "    <tr>\n",
       "        <td>genre</td>\n",
       "        <td>table</td>\n",
       "    </tr>\n",
       "    <tr>\n",
       "        <td>invoice</td>\n",
       "        <td>table</td>\n",
       "    </tr>\n",
       "    <tr>\n",
       "        <td>invoice_line</td>\n",
       "        <td>table</td>\n",
       "    </tr>\n",
       "    <tr>\n",
       "        <td>media_type</td>\n",
       "        <td>table</td>\n",
       "    </tr>\n",
       "    <tr>\n",
       "        <td>playlist</td>\n",
       "        <td>table</td>\n",
       "    </tr>\n",
       "    <tr>\n",
       "        <td>playlist_track</td>\n",
       "        <td>table</td>\n",
       "    </tr>\n",
       "    <tr>\n",
       "        <td>track</td>\n",
       "        <td>table</td>\n",
       "    </tr>\n",
       "</table>"
      ],
      "text/plain": [
       "[('album', 'table'),\n",
       " ('artist', 'table'),\n",
       " ('customer', 'table'),\n",
       " ('employee', 'table'),\n",
       " ('genre', 'table'),\n",
       " ('invoice', 'table'),\n",
       " ('invoice_line', 'table'),\n",
       " ('media_type', 'table'),\n",
       " ('playlist', 'table'),\n",
       " ('playlist_track', 'table'),\n",
       " ('track', 'table')]"
      ]
     },
     "execution_count": 2,
     "metadata": {},
     "output_type": "execute_result"
    }
   ],
   "source": [
    "%%sql\n",
    "SELECT\n",
    "    name,\n",
    "    type\n",
    "FROM sqlite_master\n",
    "WHERE type IN (\"table\",\"view\");"
   ]
  },
  {
   "cell_type": "markdown",
   "metadata": {},
   "source": [
    "## Database Schema"
   ]
  },
  {
   "cell_type": "markdown",
   "metadata": {},
   "source": [
    "![img](data:image/png;base64,iVBORw0KGgoAAAANSUhEUgAAAtoAAALfCAYAAABfI2WAAAAAAXNSR0IArs4c6QAAAARnQU1BAACx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%0AAABJRU5ErkJggg==)"
   ]
  },
  {
   "cell_type": "markdown",
   "metadata": {},
   "source": [
    "## Overview of a few tables\n"
   ]
  },
  {
   "cell_type": "code",
   "execution_count": 3,
   "metadata": {
    "collapsed": false,
    "jupyter": {
     "outputs_hidden": false
    }
   },
   "outputs": [
    {
     "name": "stdout",
     "output_type": "stream",
     "text": [
      "Done.\n"
     ]
    },
    {
     "data": {
      "text/html": [
       "<table>\n",
       "    <tr>\n",
       "        <th>employee_id</th>\n",
       "        <th>last_name</th>\n",
       "        <th>first_name</th>\n",
       "        <th>title</th>\n",
       "        <th>reports_to</th>\n",
       "        <th>birthdate</th>\n",
       "        <th>hire_date</th>\n",
       "        <th>address</th>\n",
       "        <th>city</th>\n",
       "        <th>state</th>\n",
       "        <th>country</th>\n",
       "        <th>postal_code</th>\n",
       "        <th>phone</th>\n",
       "        <th>fax</th>\n",
       "        <th>email</th>\n",
       "    </tr>\n",
       "    <tr>\n",
       "        <td>1</td>\n",
       "        <td>Adams</td>\n",
       "        <td>Andrew</td>\n",
       "        <td>General Manager</td>\n",
       "        <td>None</td>\n",
       "        <td>1962-02-18 00:00:00</td>\n",
       "        <td>2016-08-14 00:00:00</td>\n",
       "        <td>11120 Jasper Ave NW</td>\n",
       "        <td>Edmonton</td>\n",
       "        <td>AB</td>\n",
       "        <td>Canada</td>\n",
       "        <td>T5K 2N1</td>\n",
       "        <td>+1 (780) 428-9482</td>\n",
       "        <td>+1 (780) 428-3457</td>\n",
       "        <td>andrew@chinookcorp.com</td>\n",
       "    </tr>\n",
       "    <tr>\n",
       "        <td>2</td>\n",
       "        <td>Edwards</td>\n",
       "        <td>Nancy</td>\n",
       "        <td>Sales Manager</td>\n",
       "        <td>1</td>\n",
       "        <td>1958-12-08 00:00:00</td>\n",
       "        <td>2016-05-01 00:00:00</td>\n",
       "        <td>825 8 Ave SW</td>\n",
       "        <td>Calgary</td>\n",
       "        <td>AB</td>\n",
       "        <td>Canada</td>\n",
       "        <td>T2P 2T3</td>\n",
       "        <td>+1 (403) 262-3443</td>\n",
       "        <td>+1 (403) 262-3322</td>\n",
       "        <td>nancy@chinookcorp.com</td>\n",
       "    </tr>\n",
       "    <tr>\n",
       "        <td>3</td>\n",
       "        <td>Peacock</td>\n",
       "        <td>Jane</td>\n",
       "        <td>Sales Support Agent</td>\n",
       "        <td>2</td>\n",
       "        <td>1973-08-29 00:00:00</td>\n",
       "        <td>2017-04-01 00:00:00</td>\n",
       "        <td>1111 6 Ave SW</td>\n",
       "        <td>Calgary</td>\n",
       "        <td>AB</td>\n",
       "        <td>Canada</td>\n",
       "        <td>T2P 5M5</td>\n",
       "        <td>+1 (403) 262-3443</td>\n",
       "        <td>+1 (403) 262-6712</td>\n",
       "        <td>jane@chinookcorp.com</td>\n",
       "    </tr>\n",
       "    <tr>\n",
       "        <td>4</td>\n",
       "        <td>Park</td>\n",
       "        <td>Margaret</td>\n",
       "        <td>Sales Support Agent</td>\n",
       "        <td>2</td>\n",
       "        <td>1947-09-19 00:00:00</td>\n",
       "        <td>2017-05-03 00:00:00</td>\n",
       "        <td>683 10 Street SW</td>\n",
       "        <td>Calgary</td>\n",
       "        <td>AB</td>\n",
       "        <td>Canada</td>\n",
       "        <td>T2P 5G3</td>\n",
       "        <td>+1 (403) 263-4423</td>\n",
       "        <td>+1 (403) 263-4289</td>\n",
       "        <td>margaret@chinookcorp.com</td>\n",
       "    </tr>\n",
       "    <tr>\n",
       "        <td>5</td>\n",
       "        <td>Johnson</td>\n",
       "        <td>Steve</td>\n",
       "        <td>Sales Support Agent</td>\n",
       "        <td>2</td>\n",
       "        <td>1965-03-03 00:00:00</td>\n",
       "        <td>2017-10-17 00:00:00</td>\n",
       "        <td>7727B 41 Ave</td>\n",
       "        <td>Calgary</td>\n",
       "        <td>AB</td>\n",
       "        <td>Canada</td>\n",
       "        <td>T3B 1Y7</td>\n",
       "        <td>1 (780) 836-9987</td>\n",
       "        <td>1 (780) 836-9543</td>\n",
       "        <td>steve@chinookcorp.com</td>\n",
       "    </tr>\n",
       "</table>"
      ],
      "text/plain": [
       "[(1, 'Adams', 'Andrew', 'General Manager', None, '1962-02-18 00:00:00', '2016-08-14 00:00:00', '11120 Jasper Ave NW', 'Edmonton', 'AB', 'Canada', 'T5K 2N1', '+1 (780) 428-9482', '+1 (780) 428-3457', 'andrew@chinookcorp.com'),\n",
       " (2, 'Edwards', 'Nancy', 'Sales Manager', 1, '1958-12-08 00:00:00', '2016-05-01 00:00:00', '825 8 Ave SW', 'Calgary', 'AB', 'Canada', 'T2P 2T3', '+1 (403) 262-3443', '+1 (403) 262-3322', 'nancy@chinookcorp.com'),\n",
       " (3, 'Peacock', 'Jane', 'Sales Support Agent', 2, '1973-08-29 00:00:00', '2017-04-01 00:00:00', '1111 6 Ave SW', 'Calgary', 'AB', 'Canada', 'T2P 5M5', '+1 (403) 262-3443', '+1 (403) 262-6712', 'jane@chinookcorp.com'),\n",
       " (4, 'Park', 'Margaret', 'Sales Support Agent', 2, '1947-09-19 00:00:00', '2017-05-03 00:00:00', '683 10 Street SW', 'Calgary', 'AB', 'Canada', 'T2P 5G3', '+1 (403) 263-4423', '+1 (403) 263-4289', 'margaret@chinookcorp.com'),\n",
       " (5, 'Johnson', 'Steve', 'Sales Support Agent', 2, '1965-03-03 00:00:00', '2017-10-17 00:00:00', '7727B 41 Ave', 'Calgary', 'AB', 'Canada', 'T3B 1Y7', '1 (780) 836-9987', '1 (780) 836-9543', 'steve@chinookcorp.com')]"
      ]
     },
     "execution_count": 3,
     "metadata": {},
     "output_type": "execute_result"
    }
   ],
   "source": [
    "%%sql\n",
    "SELECT *\n",
    "FROM employee\n",
    "LIMIT 5;"
   ]
  },
  {
   "cell_type": "code",
   "execution_count": 4,
   "metadata": {
    "collapsed": false,
    "jupyter": {
     "outputs_hidden": false
    }
   },
   "outputs": [
    {
     "name": "stdout",
     "output_type": "stream",
     "text": [
      "Done.\n"
     ]
    },
    {
     "data": {
      "text/html": [
       "<table>\n",
       "    <tr>\n",
       "        <th>customer_id</th>\n",
       "        <th>first_name</th>\n",
       "        <th>last_name</th>\n",
       "        <th>company</th>\n",
       "        <th>address</th>\n",
       "        <th>city</th>\n",
       "        <th>state</th>\n",
       "        <th>country</th>\n",
       "        <th>postal_code</th>\n",
       "        <th>phone</th>\n",
       "        <th>fax</th>\n",
       "        <th>email</th>\n",
       "        <th>support_rep_id</th>\n",
       "    </tr>\n",
       "    <tr>\n",
       "        <td>1</td>\n",
       "        <td>Luís</td>\n",
       "        <td>Gonçalves</td>\n",
       "        <td>Embraer - Empresa Brasileira de Aeronáutica S.A.</td>\n",
       "        <td>Av. Brigadeiro Faria Lima, 2170</td>\n",
       "        <td>São José dos Campos</td>\n",
       "        <td>SP</td>\n",
       "        <td>Brazil</td>\n",
       "        <td>12227-000</td>\n",
       "        <td>+55 (12) 3923-5555</td>\n",
       "        <td>+55 (12) 3923-5566</td>\n",
       "        <td>luisg@embraer.com.br</td>\n",
       "        <td>3</td>\n",
       "    </tr>\n",
       "    <tr>\n",
       "        <td>2</td>\n",
       "        <td>Leonie</td>\n",
       "        <td>Köhler</td>\n",
       "        <td>None</td>\n",
       "        <td>Theodor-Heuss-Straße 34</td>\n",
       "        <td>Stuttgart</td>\n",
       "        <td>None</td>\n",
       "        <td>Germany</td>\n",
       "        <td>70174</td>\n",
       "        <td>+49 0711 2842222</td>\n",
       "        <td>None</td>\n",
       "        <td>leonekohler@surfeu.de</td>\n",
       "        <td>5</td>\n",
       "    </tr>\n",
       "    <tr>\n",
       "        <td>3</td>\n",
       "        <td>François</td>\n",
       "        <td>Tremblay</td>\n",
       "        <td>None</td>\n",
       "        <td>1498 rue Bélanger</td>\n",
       "        <td>Montréal</td>\n",
       "        <td>QC</td>\n",
       "        <td>Canada</td>\n",
       "        <td>H2G 1A7</td>\n",
       "        <td>+1 (514) 721-4711</td>\n",
       "        <td>None</td>\n",
       "        <td>ftremblay@gmail.com</td>\n",
       "        <td>3</td>\n",
       "    </tr>\n",
       "    <tr>\n",
       "        <td>4</td>\n",
       "        <td>Bjørn</td>\n",
       "        <td>Hansen</td>\n",
       "        <td>None</td>\n",
       "        <td>Ullevålsveien 14</td>\n",
       "        <td>Oslo</td>\n",
       "        <td>None</td>\n",
       "        <td>Norway</td>\n",
       "        <td>0171</td>\n",
       "        <td>+47 22 44 22 22</td>\n",
       "        <td>None</td>\n",
       "        <td>bjorn.hansen@yahoo.no</td>\n",
       "        <td>4</td>\n",
       "    </tr>\n",
       "    <tr>\n",
       "        <td>5</td>\n",
       "        <td>František</td>\n",
       "        <td>Wichterlová</td>\n",
       "        <td>JetBrains s.r.o.</td>\n",
       "        <td>Klanova 9/506</td>\n",
       "        <td>Prague</td>\n",
       "        <td>None</td>\n",
       "        <td>Czech Republic</td>\n",
       "        <td>14700</td>\n",
       "        <td>+420 2 4172 5555</td>\n",
       "        <td>+420 2 4172 5555</td>\n",
       "        <td>frantisekw@jetbrains.com</td>\n",
       "        <td>4</td>\n",
       "    </tr>\n",
       "</table>"
      ],
      "text/plain": [
       "[(1, 'Luís', 'Gonçalves', 'Embraer - Empresa Brasileira de Aeronáutica S.A.', 'Av. Brigadeiro Faria Lima, 2170', 'São José dos Campos', 'SP', 'Brazil', '12227-000', '+55 (12) 3923-5555', '+55 (12) 3923-5566', 'luisg@embraer.com.br', 3),\n",
       " (2, 'Leonie', 'Köhler', None, 'Theodor-Heuss-Straße 34', 'Stuttgart', None, 'Germany', '70174', '+49 0711 2842222', None, 'leonekohler@surfeu.de', 5),\n",
       " (3, 'François', 'Tremblay', None, '1498 rue Bélanger', 'Montréal', 'QC', 'Canada', 'H2G 1A7', '+1 (514) 721-4711', None, 'ftremblay@gmail.com', 3),\n",
       " (4, 'Bjørn', 'Hansen', None, 'Ullevålsveien 14', 'Oslo', None, 'Norway', '0171', '+47 22 44 22 22', None, 'bjorn.hansen@yahoo.no', 4),\n",
       " (5, 'František', 'Wichterlová', 'JetBrains s.r.o.', 'Klanova 9/506', 'Prague', None, 'Czech Republic', '14700', '+420 2 4172 5555', '+420 2 4172 5555', 'frantisekw@jetbrains.com', 4)]"
      ]
     },
     "execution_count": 4,
     "metadata": {},
     "output_type": "execute_result"
    }
   ],
   "source": [
    "%%sql\n",
    "SELECT *\n",
    "FROM customer\n",
    "LIMIT 5;"
   ]
  },
  {
   "cell_type": "code",
   "execution_count": 5,
   "metadata": {
    "collapsed": false,
    "jupyter": {
     "outputs_hidden": false
    }
   },
   "outputs": [
    {
     "name": "stdout",
     "output_type": "stream",
     "text": [
      "Done.\n"
     ]
    },
    {
     "data": {
      "text/html": [
       "<table>\n",
       "    <tr>\n",
       "        <th>invoice_id</th>\n",
       "        <th>customer_id</th>\n",
       "        <th>invoice_date</th>\n",
       "        <th>billing_address</th>\n",
       "        <th>billing_city</th>\n",
       "        <th>billing_state</th>\n",
       "        <th>billing_country</th>\n",
       "        <th>billing_postal_code</th>\n",
       "        <th>total</th>\n",
       "    </tr>\n",
       "    <tr>\n",
       "        <td>1</td>\n",
       "        <td>18</td>\n",
       "        <td>2017-01-03 00:00:00</td>\n",
       "        <td>627 Broadway</td>\n",
       "        <td>New York</td>\n",
       "        <td>NY</td>\n",
       "        <td>USA</td>\n",
       "        <td>10012-2612</td>\n",
       "        <td>15.84</td>\n",
       "    </tr>\n",
       "    <tr>\n",
       "        <td>2</td>\n",
       "        <td>30</td>\n",
       "        <td>2017-01-03 00:00:00</td>\n",
       "        <td>230 Elgin Street</td>\n",
       "        <td>Ottawa</td>\n",
       "        <td>ON</td>\n",
       "        <td>Canada</td>\n",
       "        <td>K2P 1L7</td>\n",
       "        <td>9.9</td>\n",
       "    </tr>\n",
       "    <tr>\n",
       "        <td>3</td>\n",
       "        <td>40</td>\n",
       "        <td>2017-01-05 00:00:00</td>\n",
       "        <td>8, Rue Hanovre</td>\n",
       "        <td>Paris</td>\n",
       "        <td>None</td>\n",
       "        <td>France</td>\n",
       "        <td>75002</td>\n",
       "        <td>1.98</td>\n",
       "    </tr>\n",
       "    <tr>\n",
       "        <td>4</td>\n",
       "        <td>18</td>\n",
       "        <td>2017-01-06 00:00:00</td>\n",
       "        <td>627 Broadway</td>\n",
       "        <td>New York</td>\n",
       "        <td>NY</td>\n",
       "        <td>USA</td>\n",
       "        <td>10012-2612</td>\n",
       "        <td>7.92</td>\n",
       "    </tr>\n",
       "    <tr>\n",
       "        <td>5</td>\n",
       "        <td>27</td>\n",
       "        <td>2017-01-07 00:00:00</td>\n",
       "        <td>1033 N Park Ave</td>\n",
       "        <td>Tucson</td>\n",
       "        <td>AZ</td>\n",
       "        <td>USA</td>\n",
       "        <td>85719</td>\n",
       "        <td>16.83</td>\n",
       "    </tr>\n",
       "</table>"
      ],
      "text/plain": [
       "[(1, 18, '2017-01-03 00:00:00', '627 Broadway', 'New York', 'NY', 'USA', '10012-2612', 15.84),\n",
       " (2, 30, '2017-01-03 00:00:00', '230 Elgin Street', 'Ottawa', 'ON', 'Canada', 'K2P 1L7', 9.9),\n",
       " (3, 40, '2017-01-05 00:00:00', '8, Rue Hanovre', 'Paris', 'None', 'France', '75002', 1.98),\n",
       " (4, 18, '2017-01-06 00:00:00', '627 Broadway', 'New York', 'NY', 'USA', '10012-2612', 7.92),\n",
       " (5, 27, '2017-01-07 00:00:00', '1033 N Park Ave', 'Tucson', 'AZ', 'USA', '85719', 16.83)]"
      ]
     },
     "execution_count": 5,
     "metadata": {},
     "output_type": "execute_result"
    }
   ],
   "source": [
    "%%sql\n",
    "SELECT *\n",
    "FROM invoice\n",
    "LIMIT 5;"
   ]
  },
  {
   "cell_type": "markdown",
   "metadata": {},
   "source": [
    "***"
   ]
  },
  {
   "cell_type": "markdown",
   "metadata": {},
   "source": [
    "# Scenario 1: Which albums should the Chinook Store purchase based on the most popular genres?"
   ]
  },
  {
   "cell_type": "markdown",
   "metadata": {},
   "source": [
    "The Chinook record store has just signed a deal with a new record label, and the task is to select the first three albums that will be added to the store, from a list of four. All four albums are by artists that don't have any tracks in the store right now - we have the artist names, and the genre of music they produce:\n",
    "\n",
    "\n",
    "| Artist Name |\tGenre\n",
    "| :-----: | :-----: |\n",
    "| Regal |\tHip-Hop\n",
    "| Red Tone |\tPunk\n",
    "| Meteor and the Girls |\tPop\n",
    "| Slim Jim Bites |\tBlues\n",
    "\n",
    "The record label specializes in artists from the USA, and they have given Chinook some money to advertise the new albums in the USA, so we're interested in finding out which genres sell the best in the USA.\n"
   ]
  },
  {
   "cell_type": "markdown",
   "metadata": {},
   "source": [
    "## New Albums to Purchase Based on Genre Popularity"
   ]
  },
  {
   "cell_type": "code",
   "execution_count": 6,
   "metadata": {
    "collapsed": false,
    "jupyter": {
     "outputs_hidden": false
    }
   },
   "outputs": [
    {
     "name": "stdout",
     "output_type": "stream",
     "text": [
      "Done.\n"
     ]
    },
    {
     "data": {
      "text/html": [
       "<table>\n",
       "    <tr>\n",
       "        <th>Genre</th>\n",
       "        <th>tracks_sold</th>\n",
       "        <th>percentage_sold</th>\n",
       "    </tr>\n",
       "    <tr>\n",
       "        <td>Rock</td>\n",
       "        <td>561</td>\n",
       "        <td>0.5337773549000951</td>\n",
       "    </tr>\n",
       "    <tr>\n",
       "        <td>Alternative &amp; Punk</td>\n",
       "        <td>130</td>\n",
       "        <td>0.12369172216936251</td>\n",
       "    </tr>\n",
       "    <tr>\n",
       "        <td>Metal</td>\n",
       "        <td>124</td>\n",
       "        <td>0.11798287345385347</td>\n",
       "    </tr>\n",
       "    <tr>\n",
       "        <td>R&amp;B/Soul</td>\n",
       "        <td>53</td>\n",
       "        <td>0.05042816365366318</td>\n",
       "    </tr>\n",
       "    <tr>\n",
       "        <td>Blues</td>\n",
       "        <td>36</td>\n",
       "        <td>0.03425309229305423</td>\n",
       "    </tr>\n",
       "    <tr>\n",
       "        <td>Alternative</td>\n",
       "        <td>35</td>\n",
       "        <td>0.03330161750713606</td>\n",
       "    </tr>\n",
       "    <tr>\n",
       "        <td>Latin</td>\n",
       "        <td>22</td>\n",
       "        <td>0.02093244529019981</td>\n",
       "    </tr>\n",
       "    <tr>\n",
       "        <td>Pop</td>\n",
       "        <td>22</td>\n",
       "        <td>0.02093244529019981</td>\n",
       "    </tr>\n",
       "    <tr>\n",
       "        <td>Hip Hop/Rap</td>\n",
       "        <td>20</td>\n",
       "        <td>0.019029495718363463</td>\n",
       "    </tr>\n",
       "    <tr>\n",
       "        <td>Jazz</td>\n",
       "        <td>14</td>\n",
       "        <td>0.013320647002854425</td>\n",
       "    </tr>\n",
       "</table>"
      ],
      "text/plain": [
       "[('Rock', 561, 0.5337773549000951),\n",
       " ('Alternative & Punk', 130, 0.12369172216936251),\n",
       " ('Metal', 124, 0.11798287345385347),\n",
       " ('R&B/Soul', 53, 0.05042816365366318),\n",
       " ('Blues', 36, 0.03425309229305423),\n",
       " ('Alternative', 35, 0.03330161750713606),\n",
       " ('Latin', 22, 0.02093244529019981),\n",
       " ('Pop', 22, 0.02093244529019981),\n",
       " ('Hip Hop/Rap', 20, 0.019029495718363463),\n",
       " ('Jazz', 14, 0.013320647002854425)]"
      ]
     },
     "execution_count": 6,
     "metadata": {},
     "output_type": "execute_result"
    }
   ],
   "source": [
    "%%sql\n",
    "WITH genre_table as\n",
    "    ( \n",
    "\n",
    "    SELECT il.* FROM invoice_line il\n",
    "    INNER JOIN invoice i on il.invoice_id = i.invoice_id\n",
    "    INNER JOIN customer c on i.customer_id = c.customer_id\n",
    "    WHERE c.country = \"USA\"\n",
    "\n",
    "\n",
    "    )\n",
    "\n",
    "\n",
    "SELECT\n",
    "    g.name as Genre,\n",
    "    count(gt.invoice_line_id) tracks_sold,\n",
    "    cast(count(gt.invoice_line_id) AS FLOAT) / (\n",
    "        SELECT COUNT(*) from genre_table\n",
    "    ) percentage_sold\n",
    "FROM genre_table gt\n",
    "INNER JOIN track t on t.track_id = gt.track_id\n",
    "INNER JOIN genre g on g.genre_id = t.genre_id\n",
    "GROUP BY 1\n",
    "ORDER BY 2 DESC\n",
    "LIMIT 10;\n",
    "    "
   ]
  },
  {
   "cell_type": "markdown",
   "metadata": {},
   "source": [
    "Based off how many tracks have been sold by each Genre in the U.S., the Chinook record store should select the following albums from the following artists:\n",
    "\n",
    "* Red Tone\n",
    "* Slim Jim Bites\n",
    "* Meteor and the Girls\n",
    "\n",
    "Earlier, a table was given with artist names and the corresponding genres for each artist that Chinook record store was interested in adding to their album selection. The table above with the number of U.S. tracks sold for certain genres was then used to line up with the potentially new artists and their corresponding genres. When matched up, the order of genre popularity based off tracks sold was the following:\n",
    "\n",
    "1. Alternative & Punk\n",
    "2. Blues\n",
    "3. Pop\n",
    "\n",
    "In light of this, the artist Regal did not make the cut since 3 artists needed to be selected and Hip Hop/Rap fell below Pop in order of popularity.\n"
   ]
  },
  {
   "cell_type": "markdown",
   "metadata": {},
   "source": [
    "***"
   ]
  },
  {
   "cell_type": "markdown",
   "metadata": {},
   "source": [
    "# Scenario 2: Which Sales Support Rep has the best sales performance?\n",
    "\n",
    "Each customer for the Chinook store gets assigned to a sales support agent within the company when they first make a purchase. The task is to analyze the purchases of customers belonging to each employee to see if any sales support agent is performing either better or worse than the others."
   ]
  },
  {
   "cell_type": "code",
   "execution_count": 7,
   "metadata": {
    "collapsed": false,
    "jupyter": {
     "outputs_hidden": false
    }
   },
   "outputs": [
    {
     "name": "stdout",
     "output_type": "stream",
     "text": [
      "Done.\n"
     ]
    },
    {
     "data": {
      "text/html": [
       "<table>\n",
       "    <tr>\n",
       "        <th>Name</th>\n",
       "        <th>Title</th>\n",
       "        <th>City, State</th>\n",
       "        <th>Country</th>\n",
       "        <th>Birthdate</th>\n",
       "        <th>Total Sales in Dollars</th>\n",
       "    </tr>\n",
       "    <tr>\n",
       "        <td>Jane Peacock</td>\n",
       "        <td>Sales Support Agent</td>\n",
       "        <td>Calgary, AB</td>\n",
       "        <td>Canada</td>\n",
       "        <td>1973</td>\n",
       "        <td>$1731.51</td>\n",
       "    </tr>\n",
       "    <tr>\n",
       "        <td>Steve Johnson</td>\n",
       "        <td>Sales Support Agent</td>\n",
       "        <td>Calgary, AB</td>\n",
       "        <td>Canada</td>\n",
       "        <td>1965</td>\n",
       "        <td>$1393.92</td>\n",
       "    </tr>\n",
       "    <tr>\n",
       "        <td>Margaret Park</td>\n",
       "        <td>Sales Support Agent</td>\n",
       "        <td>Calgary, AB</td>\n",
       "        <td>Canada</td>\n",
       "        <td>1947</td>\n",
       "        <td>$1584.0</td>\n",
       "    </tr>\n",
       "</table>"
      ],
      "text/plain": [
       "[('Jane Peacock', 'Sales Support Agent', 'Calgary, AB', 'Canada', '1973', '$1731.51'),\n",
       " ('Steve Johnson', 'Sales Support Agent', 'Calgary, AB', 'Canada', '1965', '$1393.92'),\n",
       " ('Margaret Park', 'Sales Support Agent', 'Calgary, AB', 'Canada', '1947', '$1584.0')]"
      ]
     },
     "execution_count": 7,
     "metadata": {},
     "output_type": "execute_result"
    }
   ],
   "source": [
    "%%sql\n",
    "\n",
    "WITH employee_sales as \n",
    "(\n",
    "    SELECT e.first_name || \" \" || e.last_name as Name, e.title as Title, e.city || ',' || ' ' || e.state as \"City, State\",\n",
    "    e.country as Country, e.birthdate as Birthdate, i.total as Total FROM employee e\n",
    "    INNER JOIN customer c ON c.support_rep_id = e.employee_id\n",
    "    INNER JOIN invoice i ON i.customer_id = c.customer_id\n",
    "    \n",
    ")\n",
    "\n",
    "SELECT Name, Title, \"City, State\", Country, substr(Birthdate, 1, 4) as Birthdate, \"$\" || ROUND(SUM(Total), 2) as \"Total Sales in Dollars\"\n",
    "FROM employee_sales\n",
    "GROUP BY 1\n",
    "ORDER BY 5 DESC;\n"
   ]
  },
  {
   "cell_type": "markdown",
   "metadata": {},
   "source": [
    "It is interesting to note that highest performing sales rep is also the youngest sales rep. A correlation might could be drawn between these two facts. One could argue that due to Jane Peacock being very young, she is in more intune with pop culture and the music industry. She knows what type of music people are listening to these days, therefore she knows what genre's will sell the best."
   ]
  },
  {
   "cell_type": "markdown",
   "metadata": {},
   "source": [
    "***"
   ]
  },
  {
   "cell_type": "markdown",
   "metadata": {},
   "source": [
    "# Scenario 3: Where can the Chinook Store seek to expand their business?\n",
    "\n",
    "## Analyze Sales by Country\n",
    "\n",
    "\n",
    "This next task is to analyze the sales data for customers from each different country. The country value from the customers table will be used, and the country from the billing address in the invoice table ignored.\n",
    "\n",
    "In particular, the following data will be calculated for each country:\n",
    "\n",
    "* total number of customers\n",
    "* total value of sales\n",
    "* average value of sales per customer\n",
    "* average order value\n",
    "\n",
    "Because there are a number of countries with only one customer, these customers are grouped as \"Other\" in the analysis."
   ]
  },
  {
   "cell_type": "code",
   "execution_count": 8,
   "metadata": {
    "collapsed": false,
    "jupyter": {
     "outputs_hidden": false
    }
   },
   "outputs": [
    {
     "name": "stdout",
     "output_type": "stream",
     "text": [
      "Done.\n"
     ]
    },
    {
     "data": {
      "text/html": [
       "<table>\n",
       "    <tr>\n",
       "        <th>country</th>\n",
       "        <th>customers</th>\n",
       "        <th>total_sales</th>\n",
       "        <th>average_order</th>\n",
       "        <th>customer_lifetime_value</th>\n",
       "    </tr>\n",
       "    <tr>\n",
       "        <td>USA</td>\n",
       "        <td>13</td>\n",
       "        <td>1040.490000000008</td>\n",
       "        <td>7.942671755725252</td>\n",
       "        <td>80.03769230769292</td>\n",
       "    </tr>\n",
       "    <tr>\n",
       "        <td>Canada</td>\n",
       "        <td>8</td>\n",
       "        <td>535.5900000000034</td>\n",
       "        <td>7.047236842105309</td>\n",
       "        <td>66.94875000000043</td>\n",
       "    </tr>\n",
       "    <tr>\n",
       "        <td>Brazil</td>\n",
       "        <td>5</td>\n",
       "        <td>427.68000000000245</td>\n",
       "        <td>7.011147540983647</td>\n",
       "        <td>85.53600000000048</td>\n",
       "    </tr>\n",
       "    <tr>\n",
       "        <td>France</td>\n",
       "        <td>5</td>\n",
       "        <td>389.0700000000021</td>\n",
       "        <td>7.781400000000042</td>\n",
       "        <td>77.81400000000042</td>\n",
       "    </tr>\n",
       "    <tr>\n",
       "        <td>Germany</td>\n",
       "        <td>4</td>\n",
       "        <td>334.6200000000016</td>\n",
       "        <td>8.161463414634186</td>\n",
       "        <td>83.6550000000004</td>\n",
       "    </tr>\n",
       "    <tr>\n",
       "        <td>Czech Republic</td>\n",
       "        <td>2</td>\n",
       "        <td>273.24000000000103</td>\n",
       "        <td>9.108000000000034</td>\n",
       "        <td>136.62000000000052</td>\n",
       "    </tr>\n",
       "    <tr>\n",
       "        <td>United Kingdom</td>\n",
       "        <td>3</td>\n",
       "        <td>245.52000000000078</td>\n",
       "        <td>8.768571428571457</td>\n",
       "        <td>81.84000000000026</td>\n",
       "    </tr>\n",
       "    <tr>\n",
       "        <td>Portugal</td>\n",
       "        <td>2</td>\n",
       "        <td>185.13000000000022</td>\n",
       "        <td>6.3837931034482835</td>\n",
       "        <td>92.56500000000011</td>\n",
       "    </tr>\n",
       "    <tr>\n",
       "        <td>India</td>\n",
       "        <td>2</td>\n",
       "        <td>183.1500000000002</td>\n",
       "        <td>8.72142857142858</td>\n",
       "        <td>91.5750000000001</td>\n",
       "    </tr>\n",
       "    <tr>\n",
       "        <td>Other</td>\n",
       "        <td>15</td>\n",
       "        <td>1094.9400000000085</td>\n",
       "        <td>7.448571428571486</td>\n",
       "        <td>72.99600000000056</td>\n",
       "    </tr>\n",
       "</table>"
      ],
      "text/plain": [
       "[('USA', 13, 1040.490000000008, 7.942671755725252, 80.03769230769292),\n",
       " ('Canada', 8, 535.5900000000034, 7.047236842105309, 66.94875000000043),\n",
       " ('Brazil', 5, 427.68000000000245, 7.011147540983647, 85.53600000000048),\n",
       " ('France', 5, 389.0700000000021, 7.781400000000042, 77.81400000000042),\n",
       " ('Germany', 4, 334.6200000000016, 8.161463414634186, 83.6550000000004),\n",
       " ('Czech Republic', 2, 273.24000000000103, 9.108000000000034, 136.62000000000052),\n",
       " ('United Kingdom', 3, 245.52000000000078, 8.768571428571457, 81.84000000000026),\n",
       " ('Portugal', 2, 185.13000000000022, 6.3837931034482835, 92.56500000000011),\n",
       " ('India', 2, 183.1500000000002, 8.72142857142858, 91.5750000000001),\n",
       " ('Other', 15, 1094.9400000000085, 7.448571428571486, 72.99600000000056)]"
      ]
     },
     "execution_count": 8,
     "metadata": {},
     "output_type": "execute_result"
    }
   ],
   "source": [
    "%%sql\n",
    "\n",
    "WITH country_or_other AS\n",
    "    (\n",
    "     SELECT\n",
    "       CASE\n",
    "           WHEN (\n",
    "                 SELECT count(*)\n",
    "                 FROM customer\n",
    "                 where country = c.country\n",
    "                ) = 1 THEN \"Other\"\n",
    "           ELSE c.country\n",
    "       END AS country,\n",
    "       c.customer_id,\n",
    "       il.*\n",
    "     FROM invoice_line il\n",
    "     INNER JOIN invoice i ON i.invoice_id = il.invoice_id\n",
    "     INNER JOIN customer c ON c.customer_id = i.customer_id\n",
    "    )\n",
    "\n",
    "SELECT\n",
    "    country,\n",
    "    customers,\n",
    "    total_sales,\n",
    "    average_order,\n",
    "    customer_lifetime_value\n",
    "FROM\n",
    "    (\n",
    "    SELECT\n",
    "        country,\n",
    "        count(distinct customer_id) customers,\n",
    "        SUM(unit_price) total_sales,\n",
    "        SUM(unit_price) / count(distinct customer_id) customer_lifetime_value,\n",
    "        SUM(unit_price) / count(distinct invoice_id) average_order,\n",
    "        CASE\n",
    "            WHEN country = \"Other\" THEN 1\n",
    "            ELSE 0\n",
    "        END AS sort\n",
    "    FROM country_or_other\n",
    "    GROUP BY country\n",
    "    ORDER BY sort ASC, total_sales DESC\n",
    "    );\n"
   ]
  },
  {
   "cell_type": "markdown",
   "metadata": {},
   "source": [
    "The lowest performing countries by sales are the Czech Republic, Portugal, India, and the United Kingdom. However, combining this with the least amount of customers per country and the Czech Republic, Portugal, and India rank at the bottom. These three countries should be where the Chinook Store puts their focus."
   ]
  },
  {
   "cell_type": "markdown",
   "metadata": {},
   "source": [
    "***"
   ]
  },
  {
   "cell_type": "markdown",
   "metadata": {},
   "source": [
    "# Scenario 4: Should Chinook shift the way it allows customers to purchase music from their store?\n",
    "\n",
    "## Background\n",
    "\n",
    "The Chinook store is setup in a way that allows customer to make purchases in one of the two ways:\n",
    "\n",
    "* purchase a whole album\n",
    "* purchase a collection of one or more individual tracks.\n",
    "\n",
    "The store does not let customers purchase a whole album, and then add individual tracks to that same purchase (unless they do that by choosing each track manually). When customers purchase albums they are charged the same price as if they had purchased each of those tracks separately.\n",
    "\n",
    "Management are currently considering changing their purchasing strategy to save money. The strategy they are considering is to purchase only the most popular tracks from each album from record companies, instead of purchasing every track from an album.\n",
    "\n",
    "The task is to find out what percentage of purchases are individual tracks vs whole albums, so that management can use this data to understand the effect this decision might have on overall revenue."
   ]
  },
  {
   "cell_type": "code",
   "execution_count": 9,
   "metadata": {
    "collapsed": false,
    "jupyter": {
     "outputs_hidden": false
    }
   },
   "outputs": [
    {
     "name": "stdout",
     "output_type": "stream",
     "text": [
      "Done.\n"
     ]
    },
    {
     "data": {
      "text/html": [
       "<table>\n",
       "    <tr>\n",
       "        <th>album_purchase</th>\n",
       "        <th>number_of_invoices</th>\n",
       "        <th>percent</th>\n",
       "    </tr>\n",
       "    <tr>\n",
       "        <td>no</td>\n",
       "        <td>500</td>\n",
       "        <td>0.8143322475570033</td>\n",
       "    </tr>\n",
       "    <tr>\n",
       "        <td>yes</td>\n",
       "        <td>114</td>\n",
       "        <td>0.18566775244299674</td>\n",
       "    </tr>\n",
       "</table>"
      ],
      "text/plain": [
       "[('no', 500, 0.8143322475570033), ('yes', 114, 0.18566775244299674)]"
      ]
     },
     "execution_count": 9,
     "metadata": {},
     "output_type": "execute_result"
    }
   ],
   "source": [
    " %%sql\n",
    "\n",
    "    WITH invoice_first_track AS\n",
    "    (\n",
    "     SELECT\n",
    "         il.invoice_id invoice_id,\n",
    "         MIN(il.track_id) first_track_id\n",
    "     FROM invoice_line il\n",
    "     GROUP BY 1\n",
    "    )\n",
    "\n",
    "SELECT\n",
    "    album_purchase,\n",
    "    COUNT(invoice_id) number_of_invoices,\n",
    "    CAST(count(invoice_id) AS FLOAT) / (\n",
    "                                         SELECT COUNT(*) FROM invoice\n",
    "                                      ) percent\n",
    "FROM\n",
    "    (\n",
    "    SELECT\n",
    "        ifs.*,\n",
    "        CASE\n",
    "            WHEN\n",
    "                 (\n",
    "                  SELECT t.track_id FROM track t\n",
    "                  WHERE t.album_id = (\n",
    "                                      SELECT t2.album_id FROM track t2\n",
    "                                      WHERE t2.track_id = ifs.first_track_id\n",
    "                                     ) \n",
    "\n",
    "                  EXCEPT \n",
    "\n",
    "                  SELECT il2.track_id FROM invoice_line il2\n",
    "                  WHERE il2.invoice_id = ifs.invoice_id\n",
    "                 ) IS NULL\n",
    "             AND\n",
    "                 (\n",
    "                  SELECT il2.track_id FROM invoice_line il2\n",
    "                  WHERE il2.invoice_id = ifs.invoice_id\n",
    "\n",
    "                  EXCEPT \n",
    "\n",
    "                  SELECT t.track_id FROM track t\n",
    "                  WHERE t.album_id = (\n",
    "                                      SELECT t2.album_id FROM track t2\n",
    "                                      WHERE t2.track_id = ifs.first_track_id\n",
    "                                     ) \n",
    "                 ) IS NULL\n",
    "             THEN \"yes\"\n",
    "             ELSE \"no\"\n",
    "         END AS \"album_purchase\"\n",
    "     FROM invoice_first_track ifs\n",
    "    )\n",
    "GROUP BY album_purchase;"
   ]
  },
  {
   "cell_type": "markdown",
   "metadata": {},
   "source": [
    "Due to the low percentage of album purchases, Chinook should shift their strategy to focus on single tracks."
   ]
  },
  {
   "cell_type": "markdown",
   "metadata": {},
   "source": [
    "***"
   ]
  },
  {
   "cell_type": "markdown",
   "metadata": {},
   "source": [
    "# Scenario 5: Which music artist is used in the most playlists?"
   ]
  },
  {
   "cell_type": "code",
   "execution_count": 10,
   "metadata": {
    "collapsed": false,
    "jupyter": {
     "outputs_hidden": false
    }
   },
   "outputs": [
    {
     "name": "stdout",
     "output_type": "stream",
     "text": [
      "Done.\n"
     ]
    },
    {
     "data": {
      "text/html": [
       "<table>\n",
       "    <tr>\n",
       "        <th>artist_name</th>\n",
       "        <th>Count</th>\n",
       "    </tr>\n",
       "    <tr>\n",
       "        <td>Eugene Ormandy</td>\n",
       "        <td>6</td>\n",
       "    </tr>\n",
       "    <tr>\n",
       "        <td>Academy of St. Martin in the Fields &amp; Sir Neville Marriner</td>\n",
       "        <td>5</td>\n",
       "    </tr>\n",
       "    <tr>\n",
       "        <td>Berliner Philharmoniker &amp; Herbert Von Karajan</td>\n",
       "        <td>5</td>\n",
       "    </tr>\n",
       "    <tr>\n",
       "        <td>English Concert &amp; Trevor Pinnock</td>\n",
       "        <td>5</td>\n",
       "    </tr>\n",
       "    <tr>\n",
       "        <td>The King&#x27;s Singers</td>\n",
       "        <td>5</td>\n",
       "    </tr>\n",
       "    <tr>\n",
       "        <td>Academy of St. Martin in the Fields, Sir Neville Marriner &amp; Thurston Dart</td>\n",
       "        <td>4</td>\n",
       "    </tr>\n",
       "    <tr>\n",
       "        <td>Adrian Leaper &amp; Doreen de Feis</td>\n",
       "        <td>4</td>\n",
       "    </tr>\n",
       "    <tr>\n",
       "        <td>Alberto Turco &amp; Nova Schola Gregoriana</td>\n",
       "        <td>4</td>\n",
       "    </tr>\n",
       "    <tr>\n",
       "        <td>Antal Doráti &amp; London Symphony Orchestra</td>\n",
       "        <td>4</td>\n",
       "    </tr>\n",
       "    <tr>\n",
       "        <td>Barry Wordsworth &amp; BBC Concert Orchestra</td>\n",
       "        <td>4</td>\n",
       "    </tr>\n",
       "</table>"
      ],
      "text/plain": [
       "[('Eugene Ormandy', 6),\n",
       " ('Academy of St. Martin in the Fields & Sir Neville Marriner', 5),\n",
       " ('Berliner Philharmoniker & Herbert Von Karajan', 5),\n",
       " ('English Concert & Trevor Pinnock', 5),\n",
       " (\"The King's Singers\", 5),\n",
       " ('Academy of St. Martin in the Fields, Sir Neville Marriner & Thurston Dart', 4),\n",
       " ('Adrian Leaper & Doreen de Feis', 4),\n",
       " ('Alberto Turco & Nova Schola Gregoriana', 4),\n",
       " ('Antal Doráti & London Symphony Orchestra', 4),\n",
       " ('Barry Wordsworth & BBC Concert Orchestra', 4)]"
      ]
     },
     "execution_count": 10,
     "metadata": {},
     "output_type": "execute_result"
    }
   ],
   "source": [
    "%%sql\n",
    "\n",
    "WITH artist_playlist AS\n",
    "(\n",
    "    SELECT a.name as artist_name, p.name as playlist FROM artist a\n",
    "    INNER JOIN album al ON al.artist_id = a.artist_id\n",
    "    INNER JOIN track t ON t.album_id = al.album_id\n",
    "    INNER JOIN playlist_track pt ON pt.track_id = t.track_id\n",
    "    INNER JOIN playlist p ON p.playlist_id = pt.playlist_id\n",
    "\n",
    ")\n",
    "\n",
    "\n",
    "SELECT artist_name, COUNT(DISTINCT(playlist)) as Count\n",
    "FROM artist_playlist\n",
    "GROUP BY 1\n",
    "ORDER BY 2 DESC\n",
    "LIMIT 10;\n"
   ]
  },
  {
   "cell_type": "markdown",
   "metadata": {},
   "source": [
    "It appears that the artist Eugene Ormandy is used in the most playlists."
   ]
  },
  {
   "cell_type": "markdown",
   "metadata": {
    "collapsed": true,
    "jupyter": {
     "outputs_hidden": true
    }
   },
   "source": [
    "***"
   ]
  },
  {
   "cell_type": "markdown",
   "metadata": {},
   "source": [
    "# Conclusion\n",
    "\n",
    "In this analysis, several business questions were answered for the Chinook Music Store:\n",
    "\n",
    "* Which albums should the Chinook Store purchase based on the most popular genres? <br>\n",
    "    __Answer__: Alternative & Punk, Blues, and Pop\n",
    "    \n",
    "    \n",
    "* Which Sales Support Rep has the best sales performance? <br>\n",
    "   __Answer__: Jane Peacock\n",
    "   \n",
    "    \n",
    "* Which country has the highest sales amount for the Chinook Store? <br>\n",
    "   __Answer__: Czech Republic, Portugal, and India\n",
    "   \n",
    "\n",
    "* Should Chinook shift the way it allows customers to purchase music from their store? <br>\n",
    "   __Answer__: Due to the low percentage of album purchases, Chinook should shift their strategy to focus on single tracks.\n",
    "   \n",
    "\n",
    "* Which music artist is used in the most playlists? <br>\n",
    "    __Answer__: Eugene Ormandy\n",
    "\n"
   ]
  },
  {
   "cell_type": "code",
   "execution_count": null,
   "metadata": {
    "collapsed": true
   },
   "outputs": [],
   "source": []
  }
 ],
 "metadata": {
  "kernelspec": {
   "display_name": "Python 3",
   "language": "python",
   "name": "python3"
  },
  "language_info": {
   "codemirror_mode": {
    "name": "ipython",
    "version": 3
   },
   "file_extension": ".py",
   "mimetype": "text/x-python",
   "name": "python",
   "nbconvert_exporter": "python",
   "pygments_lexer": "ipython3",
   "version": "3.4.3"
  }
 },
 "nbformat": 4,
 "nbformat_minor": 4
}
